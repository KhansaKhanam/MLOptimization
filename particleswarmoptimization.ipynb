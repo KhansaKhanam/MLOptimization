{
  "nbformat": 4,
  "nbformat_minor": 0,
  "metadata": {
    "colab": {
      "provenance": [],
      "authorship_tag": "ABX9TyNGRsWjlOOMRH3O0viZ+x7P",
      "include_colab_link": true
    },
    "kernelspec": {
      "name": "python3",
      "display_name": "Python 3"
    },
    "language_info": {
      "name": "python"
    }
  },
  "cells": [
    {
      "cell_type": "markdown",
      "metadata": {
        "id": "view-in-github",
        "colab_type": "text"
      },
      "source": [
        "<a href=\"https://colab.research.google.com/github/KhansaKhanam/MLOptimization/blob/main/particleswarmoptimization.ipynb\" target=\"_parent\"><img src=\"https://colab.research.google.com/assets/colab-badge.svg\" alt=\"Open In Colab\"/></a>"
      ]
    },
    {
      "cell_type": "code",
      "execution_count": null,
      "metadata": {
        "id": "7aSwv7r3Ym9b"
      },
      "outputs": [],
      "source": [
        "import numpy as np\n",
        "import random"
      ]
    },
    {
      "cell_type": "code",
      "source": [
        "def objective_func(param):\n",
        "  x,y,z = param[0], param[1], param[2]\n",
        "  return (x-4)**2 + (y-5)**2 + (z+6)**2"
      ],
      "metadata": {
        "id": "TIq9Pwr5tZsk"
      },
      "execution_count": null,
      "outputs": []
    },
    {
      "cell_type": "code",
      "source": [
        "search_space = [[-10,-10,-10],[10,10,10]]"
      ],
      "metadata": {
        "id": "m_F8qD8BtiWe"
      },
      "execution_count": null,
      "outputs": []
    },
    {
      "cell_type": "code",
      "source": [
        "n_particles = 10\n",
        "n_iterations = 30"
      ],
      "metadata": {
        "id": "67Qx-g8KtmE0"
      },
      "execution_count": null,
      "outputs": []
    },
    {
      "cell_type": "code",
      "source": [
        "w = 0.5 # controls exploration and exploitation"
      ],
      "metadata": {
        "id": "mwfdzczsu3Fr"
      },
      "execution_count": null,
      "outputs": []
    },
    {
      "cell_type": "code",
      "source": [
        "# c1 and c2 control the particles personal goal and global goal influence on the\n",
        "# velocity of the particle\n",
        "c1 = 0.8 # personal best - tendancy to move towards personal best position\n",
        "c2 = 0.9 # global best - tendancy to move towards global best position"
      ],
      "metadata": {
        "id": "1bvQH_g4u7IN"
      },
      "execution_count": null,
      "outputs": []
    },
    {
      "cell_type": "code",
      "source": [
        "particles = np.random.uniform(low=search_space[0], high=search_space[1], size=(n_particles,3))\n",
        "velocity = np.zeros(shape=(n_particles,3))"
      ],
      "metadata": {
        "id": "0wW1hC6MveTA"
      },
      "execution_count": null,
      "outputs": []
    },
    {
      "cell_type": "code",
      "source": [
        "best_position = particles.copy()\n",
        "best_cost = np.array([objective_func(x) for x in particles])"
      ],
      "metadata": {
        "id": "FQkFqid9vp87"
      },
      "execution_count": null,
      "outputs": []
    },
    {
      "cell_type": "code",
      "source": [
        "global_best_position = particles.copy()\n",
        "global_best_cost = best_cost.min()"
      ],
      "metadata": {
        "id": "Od4UJcw4wCdO"
      },
      "execution_count": null,
      "outputs": []
    },
    {
      "cell_type": "code",
      "source": [
        "for i in range(n_iterations):\n",
        "  r1 = np.random.rand(n_particles,3) # induces randomness in direction of movement across different axes\n",
        "  r2 = np.random.rand(n_particles,3) # induces randomness in direction of movement across different axes\n",
        "\n",
        "  cognitive_comp = c1*r1*(best_position - particles)\n",
        "  social_comp = c2*r2*(global_best_position - particles)\n",
        "\n",
        "  velocity = w * velocity + c1 * r1 * (best_position - particles) + c2 * r2 * (global_best_position - particles)\n",
        "\n",
        "  particles = particles + velocity\n",
        "\n",
        "  costs = np.array([objective_func(x) for x in particles])\n",
        "\n",
        "  best_mask = costs < best_cost\n",
        "  best_cost[best_mask] = costs[best_mask]\n",
        "  best_position[best_mask] = particles[best_mask]\n",
        "\n",
        "  # update global best position and cost\n",
        "  if best_cost.min() < global_best_cost:\n",
        "    global_best_cost = best_cost.min()\n",
        "    global_best_position = best_position[best_cost.argmin()]\n",
        "\n",
        "\n",
        "  print(f'Iteration {i+1}: Best Cost = {global_best_cost:.6f}')\n",
        "\n",
        "# Print the results\n",
        "print('Global Best Position:', global_best_position)\n",
        "print('Global Best Cost:', global_best_cost)"
      ],
      "metadata": {
        "colab": {
          "base_uri": "https://localhost:8080/"
        },
        "id": "crdqKTzKwIrc",
        "outputId": "270f6339-f2bd-46c2-efc8-ba1e76a6ad20"
      },
      "execution_count": null,
      "outputs": [
        {
          "output_type": "stream",
          "name": "stdout",
          "text": [
            "Iteration 1: Best Cost = 51.193041\n",
            "Iteration 2: Best Cost = 51.193041\n",
            "Iteration 3: Best Cost = 51.193041\n",
            "Iteration 4: Best Cost = 51.193041\n",
            "Iteration 5: Best Cost = 51.193041\n",
            "Iteration 6: Best Cost = 51.193041\n",
            "Iteration 7: Best Cost = 51.193041\n",
            "Iteration 8: Best Cost = 51.193041\n",
            "Iteration 9: Best Cost = 51.193041\n",
            "Iteration 10: Best Cost = 51.193041\n",
            "Iteration 11: Best Cost = 51.193041\n",
            "Iteration 12: Best Cost = 51.193041\n",
            "Iteration 13: Best Cost = 51.193041\n",
            "Iteration 14: Best Cost = 51.193041\n",
            "Iteration 15: Best Cost = 51.193041\n",
            "Iteration 16: Best Cost = 51.193041\n",
            "Iteration 17: Best Cost = 51.193041\n",
            "Iteration 18: Best Cost = 51.193041\n",
            "Iteration 19: Best Cost = 51.193041\n",
            "Iteration 20: Best Cost = 51.193041\n",
            "Iteration 21: Best Cost = 51.193041\n",
            "Iteration 22: Best Cost = 51.193041\n",
            "Iteration 23: Best Cost = 51.193041\n",
            "Iteration 24: Best Cost = 51.193041\n",
            "Iteration 25: Best Cost = 51.193041\n",
            "Iteration 26: Best Cost = 51.193041\n",
            "Iteration 27: Best Cost = 51.193041\n",
            "Iteration 28: Best Cost = 51.193041\n",
            "Iteration 29: Best Cost = 51.193041\n",
            "Iteration 30: Best Cost = 51.193041\n",
            "Global Best Position: [[-3.85866676  8.28326801  5.91188804]\n",
            " [-3.46278593  0.67269209 -2.41349422]\n",
            " [-0.93794657  6.53076262  2.72278172]\n",
            " [-1.90797224  7.53309969  0.60418869]\n",
            " [-0.06833501  6.03200884 -0.2054639 ]\n",
            " [-5.24502775 -4.38542279  9.56239306]\n",
            " [ 7.18785239 -1.4494045  -5.0472312 ]\n",
            " [-5.97335982 -9.00524107 -7.29842155]\n",
            " [ 5.19227905 -9.89136779  3.36545377]\n",
            " [ 4.35174977  9.86639007  3.42524121]]\n",
            "Global Best Cost: 51.193040603894936\n"
          ]
        }
      ]
    },
    {
      "cell_type": "code",
      "source": [],
      "metadata": {
        "id": "XlgZspMA6rY0"
      },
      "execution_count": null,
      "outputs": []
    }
  ]
}